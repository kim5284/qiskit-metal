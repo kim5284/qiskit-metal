{
 "cells": [
  {
   "cell_type": "code",
   "execution_count": 338,
   "id": "parliamentary-april",
   "metadata": {},
   "outputs": [
    {
     "data": {
      "text/plain": [
       "[<matplotlib.lines.Line2D at 0x13835f76d48>]"
      ]
     },
     "execution_count": 338,
     "metadata": {},
     "output_type": "execute_result"
    },
    {
     "data": {
      "image/png": "[encoded data removed]",
      "text/plain": [
       "<Figure size 432x288 with 1 Axes>"
      ]
     },
     "metadata": {
      "needs_background": "light"
     },
     "output_type": "display_data"
    }
   ],
   "source": [
    "import numpy as np\n",
    "from math import *\n",
    "from scipy.special import mathieu_a, mathieu_cem\n",
    "import matplotlib.pyplot as plt\n",
    "from sympy import mathieuc, mathieus\n",
    "\n",
    "def kidxRAW(m, ng):\n",
    "    if ng==0:\n",
    "        return m + 1.0 - ((m+1.0)%2.0) \n",
    "    else:\n",
    "        return m + 1.0 - ((m+1.0)%2.0) + 2.0*ng*((-1.0)**(m - 0.5*(np.sign(ng)-1.0)))\n",
    "        #return m + 1.0 - ((m+1.0)%2.0) + 2.0*ng*((-1.0)**m)\n",
    "\n",
    "def kidx(m, ng):\n",
    "    return kidxRAW(m, ng) # need -0.5 offset here\n",
    "\n",
    "# define the Josephson to charging energy ratio E_J / E_C\n",
    "ratio = 1.0\n",
    "E_C = 1.0 # placeholder \n",
    "\n",
    "# for debugging only \n",
    "index_list = [] \n",
    "\n",
    "def energy(m,ng):\n",
    "    index = kidx(m,ng)\n",
    "    index_list.append(index)\n",
    "    return (E_C)*mathieu_a(index, -0.5*ratio)\n",
    "    #return (E_C)*mathieu_cem(index, -0.5*ratio, 2.0)[0]\n",
    "    #return (E_C)*mathieus(index,-0.5*ratio, 2.0)\n",
    "\n",
    "# extremely coarse grid: only three points \n",
    "ng = np.linspace(-0.5,0.5,3)\n",
    "ng_periodic = np.linspace(-2.0, 2.0,9)\n",
    "\n",
    "# define energies between (-0.5, 0.5) \n",
    "E0 = []\n",
    "E1 = []\n",
    "E2 = [] \n",
    "\n",
    "# define periodic energies between (-2.0, 2.0) \n",
    "E0_periodic = [None]*9\n",
    "E1_periodic = [None]*9\n",
    "E2_periodic = [None]*9\n",
    "\n",
    "# calculate the energies for m=0,1,2\n",
    "for i in ng:\n",
    "    E0.append(energy(0,i))\n",
    "    E1.append(energy(1,i))\n",
    "    E2.append(energy(2,i)) \n",
    " \n",
    "# define the periodic eigen energies based on the values between (-0.5,0.5) \n",
    "for i in range(len(E0_periodic)):  \n",
    "    E0_periodic[0] = E0[1] \n",
    "    E0_periodic[1] = E0[0]\n",
    "    E1_periodic[0] = E1[1]\n",
    "    E1_periodic[1] = E1[0] \n",
    "    E2_periodic[0] = E2[1]\n",
    "    E2_periodic[1] = E2[0] \n",
    "    \n",
    "    if i > 1:\n",
    "        E0_periodic[i] = E0_periodic[i-2]\n",
    "        E1_periodic[i] = E1_periodic[i-2]\n",
    "        E2_periodic[i] = E2_periodic[i-2] \n",
    "\n",
    "# plot the eigen energies between (-0.5, 0.5) \n",
    "#plt.plot(ng, E0, 'k') # m=0\n",
    "#plt.plot(ng, E1, 'r') # m=1 \n",
    "#plt.plot(ng, E2, 'b') # m=2 \n",
    "\n",
    "# plot the PERIODIC eigen energies between (-2.0, 2.0) \n",
    "plt.plot(ng_periodic, E0_periodic, 'k') # m=0 \n",
    "plt.plot(ng_periodic, E1_periodic, 'r') # m=1\n",
    "plt.plot(ng_periodic, E2_periodic, 'b') # m=2 "
   ]
  },
  {
   "cell_type": "code",
   "execution_count": null,
   "id": "common-casting",
   "metadata": {},
   "outputs": [],
   "source": []
  },
  {
   "cell_type": "code",
   "execution_count": null,
   "id": "biblical-console",
   "metadata": {},
   "outputs": [],
   "source": []
  }
 ],
 "metadata": {
  "kernelspec": {
   "display_name": "Python 3",
   "language": "python",
   "name": "python3"
  },
  "language_info": {
   "codemirror_mode": {
    "name": "ipython",
    "version": 3
   },
   "file_extension": ".py",
   "mimetype": "text/x-python",
   "name": "python",
   "nbconvert_exporter": "python",
   "pygments_lexer": "ipython3",
   "version": "3.7.8"
  }
 },
 "nbformat": 4,
 "nbformat_minor": 5
}
